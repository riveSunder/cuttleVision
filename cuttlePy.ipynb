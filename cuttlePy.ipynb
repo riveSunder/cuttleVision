{
 "cells": [
  {
   "cell_type": "code",
   "execution_count": 5,
   "metadata": {
    "collapsed": true
   },
   "outputs": [],
   "source": [
    "import sys\n",
    "\n",
    "sys.path.append('/home/radlr/anaconda3/envs/lVGPU2/lib/python3.6/site-packages')\n",
    "\n",
    "#hint from https://stackoverflow.com/questions/19876079/opencv-cannot-find-module-cv2"
   ]
  },
  {
   "cell_type": "code",
   "execution_count": 6,
   "metadata": {},
   "outputs": [],
   "source": [
    "# math etc.\n",
    "from scipy import misc\n",
    "import numpy as np\n",
    "\n",
    "#plotting\n",
    "import matplotlib as mpl\n",
    "from matplotlib import pyplot as plt\n",
    "\n",
    "#image functions, esp. resizing\n",
    "import cv2\n",
    "#directory functions\n",
    "import os"
   ]
  },
  {
   "cell_type": "code",
   "execution_count": 7,
   "metadata": {},
   "outputs": [],
   "source": [
    "def cuttleVision(cSpher,fN,nStk,off,defAtt):\n",
    "    img = 1.0*misc.imread(fN)\n",
    "    sBNarrower = 1.0*misc.imread('./sBandiensisNarrower-1.tif')\n",
    "    sBNarrow = 1.0*misc.imread('./sBandiensisNarrow-1.tif')\n",
    "    sBFull = 1.0*misc.imread('./sBandiensisFuller-1.tif')\n",
    "    \n",
    "    dimX = np.shape(sBNarrower)[0]\n",
    "    mid = dimX/2\n",
    "    dimImg = np.shape(img)[0]\n",
    "    \n",
    "    N = 12.5 #25mm eye\n",
    "    x1, y1 = np.meshgrid(np.arange(-N,N-N/dimX,2*N/dimX),np.arange(-N,N-N/dimX,2*N/dimX))\n",
    "    \n",
    "    rad = np.sqrt(x1**2+y1**2)\n",
    "    \n",
    "    apDef = np.exp(np.sqrt(3)*(2*rad**2-1))\n",
    "    apSpher = np.exp(np.sqrt(5) * (6*rad**4 - 6*rad**2+1))\n",
    "    \n",
    "    nStk = 2 # three focus depths\n",
    "    \n",
    "    \n",
    "    imgStack = np.zeros([dimImg,dimImg,3])\n",
    "    \n",
    "    myPSFDim = 48\n",
    "    PSF = np.zeros([myPSFDim*2,myPSFDim*2,9])\n",
    "    \n",
    "    for c in range(0,nStk+1):\n",
    "        \n",
    "        cChromR = 1 - (c / (nStk))\n",
    "        cChromB = 1.0 - cChromR\n",
    "        cChromG = 0.5 - cChromR\n",
    "        if (0):\n",
    "            apR1 = (sBNarrow) * np.exp(1j*2*np.pi*(cChromR/defAtt*apDef+cSpher*apSpher));\n",
    "            apG1 = (sBNarrow) * np.exp(1j*2*np.pi*(cChromG/defAtt*apDef+cSpher*apSpher));\n",
    "            apB1 = (sBNarrow) * np.exp(1j*2*np.pi*(cChromB/defAtt*apDef+cSpher*apSpher));\n",
    "        if(1):\n",
    "            apR1 = (sBFull) * np.exp(1j*2*np.pi*(cChromR/defAtt*apDef+cSpher*apSpher));\n",
    "            apG1 = (sBFull) * np.exp(1j*2*np.pi*(cChromG/defAtt*apDef+cSpher*apSpher));\n",
    "            apB1 = (sBFull) * np.exp(1j*2*np.pi*(cChromB/defAtt*apDef+cSpher*apSpher));\n",
    "        \n",
    "        apR1 = np.nan_to_num(apR1)\n",
    "        apG1 = np.nan_to_num(apG1)\n",
    "        apB1 = np.nan_to_num(apB1)\n",
    "                \n",
    "        PSF1R = np.abs(np.fft.fft2(apR1))**2\n",
    "        PSF1G = np.abs(np.fft.fft2(apG1))**2\n",
    "        PSF1B = np.abs(np.fft.fft2(apB1))**2\n",
    "        \n",
    "        #normalize PSFs\n",
    "        if (0):\n",
    "            PSF1R = PSF1R/np.max(np.max(PSF1R)); #%abs(fft(apR1)).^2;\n",
    "            PSF1G = PSF1G/np.max(np.max(PSF1G));\n",
    "            PSF1B = PSF1B/np.max(np.max(PSF1B));\n",
    "        \n",
    "        tempR = np.abs(np.fft.ifft2(np.fft.fft2(img[:,:,0],[dimX,dimX])*np.fft.fft2(PSF1R)))\n",
    "        tempG = np.abs(np.fft.ifft2(np.fft.fft2(img[:,:,1],[dimX,dimX])*np.fft.fft2(PSF1G)))\n",
    "        tempB = np.abs(np.fft.ifft2(np.fft.fft2(img[:,:,2],[dimX,dimX])*np.fft.fft2(PSF1B)))\n",
    "        \n",
    "        tempR = (tempR - np.min(tempR)) / np.max(tempR)\n",
    "        tempG = (tempG - np.min(tempG)) / np.max(tempG)\n",
    "        tempB = (tempB - np.min(tempB)) / np.max(tempB)\n",
    "        \n",
    "        tempR = tempR[0:dimImg,0:dimImg]\n",
    "        tempG = tempG[0:dimImg,0:dimImg]\n",
    "        tempB = tempB[0:dimImg,0:dimImg]\n",
    "        \n",
    "        myPSFDim = 48\n",
    "        PSF1R = np.fft.fftshift(PSF1R)[int(dimX/2)-myPSFDim:int(dimX/2)+myPSFDim,int(dimX/2)-myPSFDim:int(dimX/2)+myPSFDim]\n",
    "        PSF1G = np.fft.fftshift(PSF1G)[int(dimX/2)-myPSFDim:int(dimX/2)+myPSFDim,int(dimX/2)-myPSFDim:int(dimX/2)+myPSFDim]\n",
    "        PSF1B = np.fft.fftshift(PSF1B)[int(dimX/2)-myPSFDim:int(dimX/2)+myPSFDim,int(dimX/2)-myPSFDim:int(dimX/2)+myPSFDim]\n",
    "        \n",
    "        imgStack[:,:,c] = tempR + tempG + tempB\n",
    "        if(0):\n",
    "            imgStack[:,:,c*3+0] = tempR\n",
    "            imgStack[:,:,c*3+1] = tempG\n",
    "            imgStack[:,:,c*3+2] = tempB\n",
    "        if(1):\n",
    "            PSF[:,:,c*3+0] = PSF1R\n",
    "            PSF[:,:,c*3+1] = PSF1G\n",
    "            PSF[:,:,c*3+2] = PSF1B\n",
    "        if (0): #plot for debugging/testing defocus parameters\n",
    "            plt.figure(figsize=(12,12))\n",
    "            plt.subplot(321)\n",
    "            plt.imshow(tempR,cmap='gray')\n",
    "            plt.subplot(322)\n",
    "            plt.imshow(tempG,cmap='gray')\n",
    "            plt.subplot(323)\n",
    "            plt.imshow(tempB,cmap='gray')\n",
    "            #plt.figure()\n",
    "            #plt.imshow(PSF1R)\n",
    "            plt.show()\n",
    "            myImgRGB = np.zeros([dimImg,dimImg,3])\n",
    "            myImgRGB[:,:,0] = tempR\n",
    "            myImgRGB[:,:,1] = tempG\n",
    "            myImgRGB[:,:,2] = tempB\n",
    "            plt.figure(figsize=(6,6))\n",
    "            plt.imshow(myImgRGB)\n",
    "            #plt.figure()\n",
    "            #plt.imshow(PSF1R)\n",
    "            plt.show()\n",
    "    return imgStack, PSF"
   ]
  },
  {
   "cell_type": "code",
   "execution_count": 8,
   "metadata": {},
   "outputs": [
    {
     "name": "stdout",
     "output_type": "stream",
     "text": [
      "(1,)\n",
      "Sea_Cotton.jpg\n"
     ]
    }
   ],
   "source": [
    "myDir = os.listdir('./imgs/')\n",
    "print(np.shape(myDir))\n",
    "myResDim = 384\n",
    "for c in myDir:\n",
    "    print(c)\n",
    "    myImg = cv2.imread('./imgs/' + str(c))\n",
    "    myDimX = np.shape(myImg)[0]\n",
    "    myDimY = np.shape(myImg)[1]\n",
    "    if (myDimX < myDimY):\n",
    "        myDim = myDimX\n",
    "    else:\n",
    "        myDim = myDimY\n",
    "    myImg = myImg[0:myDim,0:myDim,:]\n",
    "    myResImg = cv2.resize(myImg,(myResDim,myResDim), interpolation = cv2.INTER_CUBIC)\n",
    "    if(0):\n",
    "        plt.figure()\n",
    "        plt.imshow(myImg)\n",
    "        plt.show()\n",
    "        plt.figure()\n",
    "        plt.imshow(myResImg)\n",
    "        plt.show()\n",
    "    cv2.imwrite('./miniImgs/mini'+str(c)[0:int(len(c)-4)]+'.tif',myResImg)\n",
    "    \n",
    "    \n",
    "if (0):\n",
    "    fN = './imgs/Sea_Cotton.jpg'\n",
    "    myImg = cv2.imread(fN)\n",
    "    myImg = myImg[0:624,0:624]\n",
    "    myImg2 = cv2.resize(myImg,None,fx=1/2, fy=1/2, interpolation = cv2.INTER_CUBIC)\n",
    "\n",
    "    plt.figure()\n",
    "    plt.imshow(myImg)\n",
    "    plt.figure()\n",
    "    plt.imshow(myImg2)\n",
    "    plt.show()\n",
    "    cv2.imwrite('minSea_Cotton.png',myImg2)"
   ]
  },
  {
   "cell_type": "code",
   "execution_count": 9,
   "metadata": {},
   "outputs": [
    {
     "ename": "FileNotFoundError",
     "evalue": "[Errno 2] No such file or directory: './miniImgs/'",
     "output_type": "error",
     "traceback": [
      "\u001b[0;31m---------------------------------------------------------------------------\u001b[0m",
      "\u001b[0;31mFileNotFoundError\u001b[0m                         Traceback (most recent call last)",
      "\u001b[0;32m<ipython-input-9-5d9fe8e5ef94>\u001b[0m in \u001b[0;36m<module>\u001b[0;34m()\u001b[0m\n\u001b[0;32m----> 1\u001b[0;31m \u001b[0mmyMiniDir\u001b[0m \u001b[0;34m=\u001b[0m \u001b[0mos\u001b[0m\u001b[0;34m.\u001b[0m\u001b[0mlistdir\u001b[0m\u001b[0;34m(\u001b[0m\u001b[0;34m'./miniImgs/'\u001b[0m\u001b[0;34m)\u001b[0m\u001b[0;34m\u001b[0m\u001b[0m\n\u001b[0m\u001b[1;32m      2\u001b[0m \u001b[0mcSpher\u001b[0m \u001b[0;34m=\u001b[0m \u001b[0;36m0\u001b[0m\u001b[0;34m\u001b[0m\u001b[0m\n\u001b[1;32m      3\u001b[0m \u001b[0mnStk\u001b[0m \u001b[0;34m=\u001b[0m \u001b[0;36m3\u001b[0m\u001b[0;34m\u001b[0m\u001b[0m\n\u001b[1;32m      4\u001b[0m \u001b[0moff\u001b[0m \u001b[0;34m=\u001b[0m \u001b[0;36m0\u001b[0m\u001b[0;34m\u001b[0m\u001b[0m\n\u001b[1;32m      5\u001b[0m \u001b[0mdefAtt\u001b[0m \u001b[0;34m=\u001b[0m \u001b[0;36m9e3\u001b[0m\u001b[0;34m\u001b[0m\u001b[0m\n",
      "\u001b[0;31mFileNotFoundError\u001b[0m: [Errno 2] No such file or directory: './miniImgs/'"
     ]
    }
   ],
   "source": [
    "myMiniDir = os.listdir('./miniImgs/')\n",
    "cSpher = 0\n",
    "nStk = 3\n",
    "off = 0\n",
    "defAtt = 9e3\n",
    "myTargets = []\n",
    "myImgs = []\n",
    "\n",
    "#note cv2 to color function for displaying RGB images\n",
    "#opencv store images as BGR instead of RGB, so we have to fix it\n",
    "#cv2.cvtColor(myImg, cv2.COLOR_BGR2RGB)\n",
    "myC = 0 \n",
    "for k in myMiniDir:\n",
    "    myC = myC+1 \n",
    "    #myImg = cv2.imread('./miniImgs/' + str(c))\n",
    "    print(k)\n",
    "    #Compute cuttlevision\n",
    "    imgStk, PSFStk = cuttleVision(cSpher,'./miniImgs/'+str(k),nStk,off,defAtt)\n",
    "    #Load target image\n",
    "    myImg = cv2.imread('./miniImgs/'+str(k))\n",
    "    myImgs.append(imgStk)\n",
    "    myTargets.append(myImg)\n",
    "    \n",
    "    if (( myC % 25)==0):\n",
    "        myFig, myAxes = plt.subplots(1,3,figsize=(10,10))\n",
    "        for c in range(0,4):\n",
    "            #for x in range(0,3):\n",
    "            #plt.subplot(3,3,c+1)\n",
    "            if(c < 3):\n",
    "                myAxes[c].imshow(imgStk[:,:,c],cmap=\"gray\")\n",
    "                myAxes[c].set_xticklabels([])\n",
    "                myAxes[c].set_yticklabels([])\n",
    "            else:\n",
    "                plt.figure()\n",
    "                plt.imshow(cv2.cvtColor(myImg, cv2.COLOR_BGR2RGB))\n",
    "                #myAxes[c].set_xticklabels([])\n",
    "                #myAxes[c].set_yticklabels([])\n",
    "            #plt.tight_layout()\n",
    "        \n",
    "    \n",
    "    plt.show()\n",
    "    \n",
    "print(\"Target vector shape: \", np.shape(myTargets))\n",
    "print(\"Training vector shape: \", np.shape(myImgs))\n",
    "            \n",
    "        \n",
    "                                           "
   ]
  },
  {
   "cell_type": "code",
   "execution_count": 55,
   "metadata": {},
   "outputs": [
    {
     "data": {
      "text/plain": [
       "(384, 384, 3)"
      ]
     },
     "execution_count": 55,
     "metadata": {},
     "output_type": "execute_result"
    }
   ],
   "source": [
    "np.shape(myImgs[12])"
   ]
  },
  {
   "cell_type": "code",
   "execution_count": 58,
   "metadata": {},
   "outputs": [
    {
     "name": "stdout",
     "output_type": "stream",
     "text": [
      "shape of training set:  (150, 384, 384, 3) (150, 384, 384, 3)\n",
      "shape of validation set:  (23, 384, 384, 3) (23, 384, 384, 3)\n",
      "shape of test set:  (14, 384, 384, 3) (14, 384, 384, 3)\n"
     ]
    }
   ],
   "source": [
    "# Allocate training/validation/test sets\n",
    "trainSet = []\n",
    "validSet = []\n",
    "testSet = []\n",
    "trainSetTgts = []\n",
    "validSetTgts = []\n",
    "testSetTgts = []\n",
    "if(0):\n",
    "    #use a seed if performance is confusing later \n",
    "    np.random.seed(1)\n",
    "\n",
    "for ck in range(0,np.shape(myImgs)[0]):\n",
    "    myRand = np.random.random()\n",
    "    if (myRand <0.8):\n",
    "        trainSet.append(myImgs[int(ck)])\n",
    "        trainSetTgts.append(myTargets[ck])\n",
    "    elif(myRand<0.9):\n",
    "        validSet.append(myImgs[ck])\n",
    "        validSetTgts.append(myTargets[ck])\n",
    "    else:\n",
    "        testSet.append(myImgs[ck])\n",
    "        testSetTgts.append(myTargets[ck])\n",
    "print(\"shape of training set: \", np.shape(trainSet),np.shape(trainSetTgts))\n",
    "print(\"shape of validation set: \", np.shape(validSet),np.shape(validSetTgts))\n",
    "print(\"shape of test set: \", np.shape(testSet),np.shape(testSetTgts))"
   ]
  },
  {
   "cell_type": "markdown",
   "metadata": {},
   "source": [
    "# Everything below this point is deprecated (2017/05/23)"
   ]
  },
  {
   "cell_type": "code",
   "execution_count": 7,
   "metadata": {},
   "outputs": [
    {
     "ename": "FileNotFoundError",
     "evalue": "[Errno 2] No such file or directory: './miniImgs/miniSea_Cotton.tif'",
     "output_type": "error",
     "traceback": [
      "\u001b[0;31m---------------------------------------------------------------------------\u001b[0m",
      "\u001b[0;31mFileNotFoundError\u001b[0m                         Traceback (most recent call last)",
      "\u001b[0;32m<ipython-input-7-03822108032a>\u001b[0m in \u001b[0;36m<module>\u001b[0;34m()\u001b[0m\n\u001b[1;32m     17\u001b[0m \u001b[0moff\u001b[0m \u001b[0;34m=\u001b[0m \u001b[0;36m0\u001b[0m\u001b[0;34m\u001b[0m\u001b[0m\n\u001b[1;32m     18\u001b[0m \u001b[0mdefAtt\u001b[0m \u001b[0;34m=\u001b[0m \u001b[0;36m1e-11\u001b[0m\u001b[0;34m\u001b[0m\u001b[0m\n\u001b[0;32m---> 19\u001b[0;31m \u001b[0mimgStk\u001b[0m\u001b[0;34m,\u001b[0m \u001b[0mPSFStk\u001b[0m \u001b[0;34m=\u001b[0m \u001b[0mcuttleVision\u001b[0m\u001b[0;34m(\u001b[0m\u001b[0mcSpher\u001b[0m\u001b[0;34m,\u001b[0m\u001b[0mfN\u001b[0m\u001b[0;34m,\u001b[0m\u001b[0mnStk\u001b[0m\u001b[0;34m,\u001b[0m\u001b[0moff\u001b[0m\u001b[0;34m,\u001b[0m\u001b[0mdefAtt\u001b[0m\u001b[0;34m)\u001b[0m\u001b[0;34m\u001b[0m\u001b[0m\n\u001b[0m\u001b[1;32m     20\u001b[0m \u001b[0mplt\u001b[0m\u001b[0;34m.\u001b[0m\u001b[0mfigure\u001b[0m\u001b[0;34m(\u001b[0m\u001b[0;34m)\u001b[0m\u001b[0;34m\u001b[0m\u001b[0m\n\u001b[1;32m     21\u001b[0m \u001b[0mplt\u001b[0m\u001b[0;34m.\u001b[0m\u001b[0mimshow\u001b[0m\u001b[0;34m(\u001b[0m\u001b[0mmyTgt\u001b[0m\u001b[0;34m)\u001b[0m\u001b[0;34m\u001b[0m\u001b[0m\n",
      "\u001b[0;32m<ipython-input-2-0f7ccb6ac0f1>\u001b[0m in \u001b[0;36mcuttleVision\u001b[0;34m(cSpher, fN, nStk, off, defAtt)\u001b[0m\n\u001b[1;32m      1\u001b[0m \u001b[0;32mdef\u001b[0m \u001b[0mcuttleVision\u001b[0m\u001b[0;34m(\u001b[0m\u001b[0mcSpher\u001b[0m\u001b[0;34m,\u001b[0m\u001b[0mfN\u001b[0m\u001b[0;34m,\u001b[0m\u001b[0mnStk\u001b[0m\u001b[0;34m,\u001b[0m\u001b[0moff\u001b[0m\u001b[0;34m,\u001b[0m\u001b[0mdefAtt\u001b[0m\u001b[0;34m)\u001b[0m\u001b[0;34m:\u001b[0m\u001b[0;34m\u001b[0m\u001b[0m\n\u001b[0;32m----> 2\u001b[0;31m     \u001b[0mimg\u001b[0m \u001b[0;34m=\u001b[0m \u001b[0;36m1.0\u001b[0m\u001b[0;34m*\u001b[0m\u001b[0mmisc\u001b[0m\u001b[0;34m.\u001b[0m\u001b[0mimread\u001b[0m\u001b[0;34m(\u001b[0m\u001b[0mfN\u001b[0m\u001b[0;34m)\u001b[0m\u001b[0;34m\u001b[0m\u001b[0m\n\u001b[0m\u001b[1;32m      3\u001b[0m     \u001b[0msBNarrower\u001b[0m \u001b[0;34m=\u001b[0m \u001b[0;36m1.0\u001b[0m\u001b[0;34m*\u001b[0m\u001b[0mmisc\u001b[0m\u001b[0;34m.\u001b[0m\u001b[0mimread\u001b[0m\u001b[0;34m(\u001b[0m\u001b[0;34m'./sBandiensisNarrower-1.tif'\u001b[0m\u001b[0;34m)\u001b[0m\u001b[0;34m\u001b[0m\u001b[0m\n\u001b[1;32m      4\u001b[0m     \u001b[0msBNarrow\u001b[0m \u001b[0;34m=\u001b[0m \u001b[0;36m1.0\u001b[0m\u001b[0;34m*\u001b[0m\u001b[0mmisc\u001b[0m\u001b[0;34m.\u001b[0m\u001b[0mimread\u001b[0m\u001b[0;34m(\u001b[0m\u001b[0;34m'./sBandiensisNarrow-1.tif'\u001b[0m\u001b[0;34m)\u001b[0m\u001b[0;34m\u001b[0m\u001b[0m\n\u001b[1;32m      5\u001b[0m     \u001b[0msBFull\u001b[0m \u001b[0;34m=\u001b[0m \u001b[0;36m1.0\u001b[0m\u001b[0;34m*\u001b[0m\u001b[0mmisc\u001b[0m\u001b[0;34m.\u001b[0m\u001b[0mimread\u001b[0m\u001b[0;34m(\u001b[0m\u001b[0;34m'./sBandiensisFuller-1.tif'\u001b[0m\u001b[0;34m)\u001b[0m\u001b[0;34m\u001b[0m\u001b[0m\n",
      "\u001b[0;32m/home/main/anaconda3/lib/python3.5/site-packages/scipy/misc/pilutil.py\u001b[0m in \u001b[0;36mimread\u001b[0;34m(name, flatten, mode)\u001b[0m\n\u001b[1;32m    152\u001b[0m     \"\"\"\n\u001b[1;32m    153\u001b[0m \u001b[0;34m\u001b[0m\u001b[0m\n\u001b[0;32m--> 154\u001b[0;31m     \u001b[0mim\u001b[0m \u001b[0;34m=\u001b[0m \u001b[0mImage\u001b[0m\u001b[0;34m.\u001b[0m\u001b[0mopen\u001b[0m\u001b[0;34m(\u001b[0m\u001b[0mname\u001b[0m\u001b[0;34m)\u001b[0m\u001b[0;34m\u001b[0m\u001b[0m\n\u001b[0m\u001b[1;32m    155\u001b[0m     \u001b[0;32mreturn\u001b[0m \u001b[0mfromimage\u001b[0m\u001b[0;34m(\u001b[0m\u001b[0mim\u001b[0m\u001b[0;34m,\u001b[0m \u001b[0mflatten\u001b[0m\u001b[0;34m=\u001b[0m\u001b[0mflatten\u001b[0m\u001b[0;34m,\u001b[0m \u001b[0mmode\u001b[0m\u001b[0;34m=\u001b[0m\u001b[0mmode\u001b[0m\u001b[0;34m)\u001b[0m\u001b[0;34m\u001b[0m\u001b[0m\n\u001b[1;32m    156\u001b[0m \u001b[0;34m\u001b[0m\u001b[0m\n",
      "\u001b[0;32m/home/main/anaconda3/lib/python3.5/site-packages/PIL/Image.py\u001b[0m in \u001b[0;36mopen\u001b[0;34m(fp, mode)\u001b[0m\n\u001b[1;32m   2278\u001b[0m             \u001b[0mfilename\u001b[0m \u001b[0;34m=\u001b[0m \u001b[0mstr\u001b[0m\u001b[0;34m(\u001b[0m\u001b[0mfp\u001b[0m\u001b[0;34m.\u001b[0m\u001b[0mresolve\u001b[0m\u001b[0;34m(\u001b[0m\u001b[0;34m)\u001b[0m\u001b[0;34m)\u001b[0m\u001b[0;34m\u001b[0m\u001b[0m\n\u001b[1;32m   2279\u001b[0m     \u001b[0;32mif\u001b[0m \u001b[0mfilename\u001b[0m\u001b[0;34m:\u001b[0m\u001b[0;34m\u001b[0m\u001b[0m\n\u001b[0;32m-> 2280\u001b[0;31m         \u001b[0mfp\u001b[0m \u001b[0;34m=\u001b[0m \u001b[0mbuiltins\u001b[0m\u001b[0;34m.\u001b[0m\u001b[0mopen\u001b[0m\u001b[0;34m(\u001b[0m\u001b[0mfilename\u001b[0m\u001b[0;34m,\u001b[0m \u001b[0;34m\"rb\"\u001b[0m\u001b[0;34m)\u001b[0m\u001b[0;34m\u001b[0m\u001b[0m\n\u001b[0m\u001b[1;32m   2281\u001b[0m \u001b[0;34m\u001b[0m\u001b[0m\n\u001b[1;32m   2282\u001b[0m     \u001b[0;32mtry\u001b[0m\u001b[0;34m:\u001b[0m\u001b[0;34m\u001b[0m\u001b[0m\n",
      "\u001b[0;31mFileNotFoundError\u001b[0m: [Errno 2] No such file or directory: './miniImgs/miniSea_Cotton.tif'"
     ]
    }
   ],
   "source": [
    "#Everything below this point is deprecated\n",
    "fN = './miniImgs/miniSea_Cotton.tif'\n",
    "\n",
    "myTgt = cv2.imread(fN)\n",
    "if(0): #Can't figure out why the colors are mixed up when displayed, imwrite works fine\n",
    "    myTgtR = myTgt[:,:,0]\n",
    "    myTgtG = myTgt[:,:,1]\n",
    "    myTgtB = myTgt[:,:,2]\n",
    "    myTG = np.zeros(np.shape(myTgt))\n",
    "    myTG[:,:,0] = myTgtR\n",
    "    myTG[:,:,1] = myTgtG\n",
    "    myTG[:,:,2] = myTgtB\n",
    "    print(np.shape(myTG))\n",
    "\n",
    "cSpher = 0\n",
    "nStk = 3\n",
    "off = 0\n",
    "defAtt = 1e-11\n",
    "imgStk, PSFStk = cuttleVision(cSpher,fN,nStk,off,defAtt)\n",
    "plt.figure()\n",
    "plt.imshow(myTgt)\n",
    "plt.show()\n",
    "plt.figure(figsize = (8,8))\n",
    "plt.subplot(131)\n",
    "plt.imshow(imgStk[:,:,0],cmap = \"gray\")\n",
    "plt.subplot(132)\n",
    "plt.imshow(imgStk[:,:,1],cmap = \"gray\")\n",
    "plt.subplot(133)\n",
    "plt.imshow(imgStk[:,:,2],cmap = \"gray\")\n",
    "plt.show()\n"
   ]
  },
  {
   "cell_type": "code",
   "execution_count": null,
   "metadata": {},
   "outputs": [],
   "source": [
    "print(np.shape(myImg))"
   ]
  },
  {
   "cell_type": "code",
   "execution_count": null,
   "metadata": {},
   "outputs": [],
   "source": [
    "cSpher = 0\n",
    "fN = './imgs/Sea_Cotton.jpg'\n",
    "nStk = 3\n",
    "off = 0\n",
    "defAtt = 9\n",
    "imgStk, PSFStk = cuttleVision(cSpher,fN,nStk,off,defAtt)"
   ]
  },
  {
   "cell_type": "code",
   "execution_count": null,
   "metadata": {},
   "outputs": [],
   "source": [
    "print(np.shape(imgStk))\n",
    "print(np.shape(PSFStk))\n",
    "myFig, myAxes = plt.subplots(3,3,figsize=(10,10))\n",
    "for c in range(0,3):\n",
    "    for x in range(0,3):\n",
    "    #plt.subplot(3,3,c+1)\n",
    "        myAxes[c,x].imshow(imgStk[:,:,c*3+x],cmap=\"gray\")\n",
    "        myAxes[c,x].set_xticklabels([])\n",
    "        myAxes[c,x].set_yticklabels([])\n",
    "        plt.tight_layout()\n",
    "    \n",
    "myFigPSF,myAxesPSF =  plt.subplots(3,3,figsize=(10,10))\n",
    "for c in range(0,3):\n",
    "    for x in range(0,3):\n",
    "        myAxesPSF[c,x].imshow(PSFStk[:,:,c*3+x],cmap=\"gray\")\n",
    "        myAxesPSF[c,x].set_xticklabels([])\n",
    "        myAxesPSF[c,x].set_yticklabels([])\n",
    "        plt.tight_layout()\n",
    "                        \n",
    "        \n",
    "   \n",
    "plt.show()\n"
   ]
  },
  {
   "cell_type": "code",
   "execution_count": null,
   "metadata": {},
   "outputs": [],
   "source": [
    "import cv2\n",
    "\n",
    "\n",
    "fN = './imgs/Sea_Cotton.jpg'\n",
    "myImg = cv2.imread(fN)\n",
    "myImg = myImg[0:624,0:624]\n",
    "myImg2 = cv2.resize(myImg,None,fx=1/2, fy=1/2, interpolation = cv2.INTER_CUBIC)\n",
    "\n",
    "plt.figure()\n",
    "plt.imshow(myImg)\n",
    "plt.figure()\n",
    "plt.imshow(myImg2)\n",
    "plt.show()\n",
    "cv2.imwrite('minSea_Cotton.png',myImg2)"
   ]
  },
  {
   "cell_type": "code",
   "execution_count": null,
   "metadata": {},
   "outputs": [],
   "source": [
    "cSpher = 0\n",
    "fN = './minSea_Cotton.png'\n",
    "nStk = 3\n",
    "off = 0\n",
    "defAtt = 9e6\n",
    "cuttleVision(cSpher,fN,nStk,off,defAtt)"
   ]
  },
  {
   "cell_type": "code",
   "execution_count": null,
   "metadata": {
    "collapsed": true
   },
   "outputs": [],
   "source": []
  },
  {
   "cell_type": "code",
   "execution_count": null,
   "metadata": {
    "collapsed": true
   },
   "outputs": [],
   "source": []
  }
 ],
 "metadata": {
  "anaconda-cloud": {},
  "kernelspec": {
   "display_name": "Python 3",
   "language": "python",
   "name": "python3"
  },
  "language_info": {
   "codemirror_mode": {
    "name": "ipython",
    "version": 3
   },
   "file_extension": ".py",
   "mimetype": "text/x-python",
   "name": "python",
   "nbconvert_exporter": "python",
   "pygments_lexer": "ipython3",
   "version": "3.6.1"
  }
 },
 "nbformat": 4,
 "nbformat_minor": 1
}
